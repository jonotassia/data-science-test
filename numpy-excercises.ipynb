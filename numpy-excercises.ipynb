{
    "cells": [
        {
            "cell_type": "markdown",
            "metadata": {},
            "source": [
                "# NumPy Practice\n",
                "\n",
                "This notebook offers a set of exercises for different tasks with NumPy.\n",
                "\n",
                "It should be noted there may be more than one different way to answer a question or complete an exercise.\n",
                "\n",
                "Exercises are based off (and directly taken from) the quick introduction to NumPy notebook.\n",
                "\n",
                "Different tasks will be detailed by comments or text.\n",
                "\n",
                "For further reference and resources, it's advised to check out the [NumPy documentation](https://numpy.org/devdocs/user/index.html).\n",
                "\n",
                "And if you get stuck, try searching for a question in the following format: \"how to do XYZ with numpy\", where XYZ is the function you want to leverage from NumPy."
            ]
        },
        {
            "cell_type": "code",
            "execution_count": 1,
            "metadata": {},
            "outputs": [],
            "source": [
                "# Import NumPy as its abbreviation 'np'\n",
                "import numpy as np"
            ]
        },
        {
            "cell_type": "code",
            "execution_count": 3,
            "metadata": {},
            "outputs": [],
            "source": [
                "# Create a 1-dimensional NumPy array using np.array()\n",
                "a1 = np.ones(3)\n",
                "\n",
                "# Create a 2-dimensional NumPy array using np.array()\n",
                "a2 = np.ones((2,3))\n",
                "\n",
                "# Create a 3-dimensional Numpy array using np.array()\n",
                "a3 = np.ones((3, 4, 3))"
            ]
        },
        {
            "cell_type": "markdown",
            "metadata": {},
            "source": [
                "Now we've you've created 3 different arrays, let's find details about them.\n",
                "\n",
                "Find the shape, number of dimensions, data type, size and type of each array."
            ]
        },
        {
            "cell_type": "code",
            "execution_count": 4,
            "metadata": {},
            "outputs": [
                {
                    "data": {
                        "text/plain": [
                            "((3,), 1, dtype('float64'), 3, numpy.ndarray)"
                        ]
                    },
                    "execution_count": 4,
                    "metadata": {},
                    "output_type": "execute_result"
                }
            ],
            "source": [
                "# Attributes of 1-dimensional array (shape, \n",
                "# number of dimensions, data type, size and type)\n",
                "a1.shape, a1.ndim, a1.dtype, a1.size, type(a1)"
            ]
        },
        {
            "cell_type": "code",
            "execution_count": 5,
            "metadata": {},
            "outputs": [
                {
                    "data": {
                        "text/plain": [
                            "((2, 3), 2, dtype('float64'), 6, numpy.ndarray)"
                        ]
                    },
                    "execution_count": 5,
                    "metadata": {},
                    "output_type": "execute_result"
                }
            ],
            "source": [
                "# Attributes of 2-dimensional array\n",
                "a2.shape, a2.ndim, a2.dtype, a2.size, type(a2)"
            ]
        },
        {
            "cell_type": "code",
            "execution_count": 6,
            "metadata": {},
            "outputs": [
                {
                    "data": {
                        "text/plain": [
                            "((3, 4, 3), 3, dtype('float64'), 36, numpy.ndarray)"
                        ]
                    },
                    "execution_count": 6,
                    "metadata": {},
                    "output_type": "execute_result"
                }
            ],
            "source": [
                "# Attributes of 3-dimensional array\n",
                "a3.shape, a3.ndim, a3.dtype, a3.size, type(a3)"
            ]
        },
        {
            "cell_type": "code",
            "execution_count": 7,
            "metadata": {},
            "outputs": [],
            "source": [
                "# Import pandas and create a DataFrame out of one\n",
                "# of the arrays you've created\n",
                "import pandas as pd"
            ]
        },
        {
            "cell_type": "code",
            "execution_count": 12,
            "metadata": {},
            "outputs": [
                {
                    "data": {
                        "text/plain": [
                            "array([[1., 1.],\n",
                            "       [1., 1.],\n",
                            "       [1., 1.],\n",
                            "       [1., 1.],\n",
                            "       [1., 1.],\n",
                            "       [1., 1.],\n",
                            "       [1., 1.],\n",
                            "       [1., 1.],\n",
                            "       [1., 1.],\n",
                            "       [1., 1.]])"
                        ]
                    },
                    "execution_count": 12,
                    "metadata": {},
                    "output_type": "execute_result"
                }
            ],
            "source": [
                "# Create an array of shape (10, 2) with only ones\n",
                "ones = np.ones((10, 2))\n",
                "ones"
            ]
        },
        {
            "cell_type": "code",
            "execution_count": 13,
            "metadata": {},
            "outputs": [
                {
                    "data": {
                        "text/plain": [
                            "array([[[0., 0., 0.],\n",
                            "        [0., 0., 0.]],\n",
                            "\n",
                            "       [[0., 0., 0.],\n",
                            "        [0., 0., 0.]],\n",
                            "\n",
                            "       [[0., 0., 0.],\n",
                            "        [0., 0., 0.]],\n",
                            "\n",
                            "       [[0., 0., 0.],\n",
                            "        [0., 0., 0.]],\n",
                            "\n",
                            "       [[0., 0., 0.],\n",
                            "        [0., 0., 0.]],\n",
                            "\n",
                            "       [[0., 0., 0.],\n",
                            "        [0., 0., 0.]],\n",
                            "\n",
                            "       [[0., 0., 0.],\n",
                            "        [0., 0., 0.]]])"
                        ]
                    },
                    "execution_count": 13,
                    "metadata": {},
                    "output_type": "execute_result"
                }
            ],
            "source": [
                "# Create an array of shape (7, 2, 3) of only zeros\n",
                "zeros = np.zeros((7, 2, 3))\n",
                "zeros"
            ]
        },
        {
            "cell_type": "code",
            "execution_count": 14,
            "metadata": {},
            "outputs": [
                {
                    "data": {
                        "text/plain": [
                            "array([ 0,  3,  6,  9, 12, 15, 18, 21, 24, 27, 30, 33, 36, 39, 42, 45, 48,\n",
                            "       51, 54, 57, 60, 63, 66, 69, 72, 75, 78, 81, 84, 87, 90, 93, 96, 99])"
                        ]
                    },
                    "execution_count": 14,
                    "metadata": {},
                    "output_type": "execute_result"
                }
            ],
            "source": [
                "# Create an array within a range of 0 and 100 with step 3\n",
                "range = np.arange(0, 100, 3)\n",
                "range"
            ]
        },
        {
            "cell_type": "code",
            "execution_count": 16,
            "metadata": {},
            "outputs": [
                {
                    "data": {
                        "text/plain": [
                            "array([[9, 4],\n",
                            "       [6, 6],\n",
                            "       [4, 9],\n",
                            "       [1, 4],\n",
                            "       [4, 5],\n",
                            "       [5, 3],\n",
                            "       [9, 5]])"
                        ]
                    },
                    "execution_count": 16,
                    "metadata": {},
                    "output_type": "execute_result"
                }
            ],
            "source": [
                "# Create a random array with numbers between 0 and 10 of size (7, 2)\n",
                "rand_arr = np.random.randint(0, 10, size=(7,2))\n",
                "rand_arr"
            ]
        },
        {
            "cell_type": "code",
            "execution_count": 18,
            "metadata": {},
            "outputs": [
                {
                    "data": {
                        "text/plain": [
                            "array([[0.72074696, 0.85580779, 0.44752296, 0.07526551, 0.35536435],\n",
                            "       [0.22187206, 0.25245862, 0.80250445, 0.71941419, 0.26535261],\n",
                            "       [0.40469527, 0.58941258, 0.46563762, 0.99770029, 0.06118404]])"
                        ]
                    },
                    "execution_count": 18,
                    "metadata": {},
                    "output_type": "execute_result"
                }
            ],
            "source": [
                "# Create a random array of floats between 0 & 1 of shape (3, 5)\n",
                "rand_bin = np.random.rand(3, 5)\n",
                "rand_bin"
            ]
        },
        {
            "cell_type": "code",
            "execution_count": 20,
            "metadata": {},
            "outputs": [
                {
                    "data": {
                        "text/plain": [
                            "array([[6, 3, 7, 4, 6, 9],\n",
                            "       [2, 6, 7, 4, 3, 7],\n",
                            "       [7, 2, 5, 4, 1, 7],\n",
                            "       [5, 1, 4, 0, 9, 5]])"
                        ]
                    },
                    "execution_count": 20,
                    "metadata": {},
                    "output_type": "execute_result"
                }
            ],
            "source": [
                "# Set the random seed to 42\n",
                "np.random.seed(42)\n",
                "\n",
                "# Create a random array of numbers between 0 & 10 of size (4, 6)\n",
                "rand_seed = np.random.randint(0, 10, size=(4,6))\n",
                "rand_seed"
            ]
        },
        {
            "cell_type": "markdown",
            "metadata": {},
            "source": [
                "Run the cell above again, what happens?\n",
                "\n",
                "Are the numbers in the array different or the same? Why do think this is?"
            ]
        },
        {
            "cell_type": "code",
            "execution_count": 22,
            "metadata": {},
            "outputs": [
                {
                    "data": {
                        "text/plain": [
                            "array([0, 1, 2, 3, 4, 5, 6, 7, 9])"
                        ]
                    },
                    "execution_count": 22,
                    "metadata": {},
                    "output_type": "execute_result"
                }
            ],
            "source": [
                "# Create an array of random numbers between 1 & 10 of size (3, 7)\n",
                "# and save it to a variable\n",
                "sort_rand = np.random.randint(0, 10, size=(3, 7))\n",
                "\n",
                "# Find the unique numbers in the array you just created\n",
                "np.unique(sort_rand)"
            ]
        },
        {
            "cell_type": "code",
            "execution_count": 23,
            "metadata": {},
            "outputs": [
                {
                    "data": {
                        "text/plain": [
                            "array([4, 1, 3, 6, 7, 2, 0])"
                        ]
                    },
                    "execution_count": 23,
                    "metadata": {},
                    "output_type": "execute_result"
                }
            ],
            "source": [
                "# Find the 0'th index of the latest array you created\n",
                "sort_rand[0]"
            ]
        },
        {
            "cell_type": "code",
            "execution_count": 25,
            "metadata": {},
            "outputs": [
                {
                    "data": {
                        "text/plain": [
                            "array([[4, 1, 3, 6, 7, 2, 0],\n",
                            "       [3, 1, 7, 3, 1, 5, 5]])"
                        ]
                    },
                    "execution_count": 25,
                    "metadata": {},
                    "output_type": "execute_result"
                }
            ],
            "source": [
                "# Get the first 2 rows of latest array you created\n",
                "sort_rand[:2]"
            ]
        },
        {
            "cell_type": "code",
            "execution_count": 26,
            "metadata": {},
            "outputs": [
                {
                    "data": {
                        "text/plain": [
                            "array([[4, 1],\n",
                            "       [3, 1]])"
                        ]
                    },
                    "execution_count": 26,
                    "metadata": {},
                    "output_type": "execute_result"
                }
            ],
            "source": [
                "# Get the first 2 values of the first 2 rows of the latest array\n",
                "sort_rand[:2, :2]"
            ]
        },
        {
            "cell_type": "code",
            "execution_count": 29,
            "metadata": {},
            "outputs": [],
            "source": [
                "# Create a random array of numbers between 0 & 10 and an array of ones\n",
                "# both of size (3, 5), save them both to variables\n",
                "ones2 = np.ones((3,5))\n",
                "rand_array2 = np.random.randint(0, 10, size=(3,5))"
            ]
        },
        {
            "cell_type": "code",
            "execution_count": 30,
            "metadata": {},
            "outputs": [
                {
                    "data": {
                        "text/plain": [
                            "array([[ 4.,  8.,  7.,  9.,  8.],\n",
                            "       [ 5.,  2.,  5.,  8., 10.],\n",
                            "       [ 9.,  9.,  1.,  9.,  7.]])"
                        ]
                    },
                    "execution_count": 30,
                    "metadata": {},
                    "output_type": "execute_result"
                }
            ],
            "source": [
                "# Add the two arrays together\n",
                "ones2 + rand_array2"
            ]
        },
        {
            "cell_type": "code",
            "execution_count": 31,
            "metadata": {},
            "outputs": [],
            "source": [
                "# Create another array of ones of shape (5, 3)\n",
                "ones3 = np.ones((5, 3))"
            ]
        },
        {
            "cell_type": "code",
            "execution_count": 32,
            "metadata": {},
            "outputs": [
                {
                    "ename": "ValueError",
                    "evalue": "operands could not be broadcast together with shapes (3,5) (5,3) ",
                    "output_type": "error",
                    "traceback": [
                        "\u001b[1;31m---------------------------------------------------------------------------\u001b[0m",
                        "\u001b[1;31mValueError\u001b[0m                                Traceback (most recent call last)",
                        "\u001b[1;32mc:\\Users\\jtass\\PycharmProjects\\data-science-test\\numpy-excercises.ipynb Cell 23\u001b[0m in \u001b[0;36m<cell line: 2>\u001b[1;34m()\u001b[0m\n\u001b[0;32m      <a href='vscode-notebook-cell:/c%3A/Users/jtass/PycharmProjects/data-science-test/numpy-excercises.ipynb#X31sZmlsZQ%3D%3D?line=0'>1</a>\u001b[0m \u001b[39m# Try add the array of ones and the other most recent array together\u001b[39;00m\n\u001b[1;32m----> <a href='vscode-notebook-cell:/c%3A/Users/jtass/PycharmProjects/data-science-test/numpy-excercises.ipynb#X31sZmlsZQ%3D%3D?line=1'>2</a>\u001b[0m rand_array2 \u001b[39m+\u001b[39;49m ones3\n",
                        "\u001b[1;31mValueError\u001b[0m: operands could not be broadcast together with shapes (3,5) (5,3) "
                    ]
                }
            ],
            "source": [
                "# Try add the array of ones and the other most recent array together\n",
                "rand_array2 + ones3"
            ]
        },
        {
            "cell_type": "markdown",
            "metadata": {},
            "source": [
                "When you try the last cell, it produces an error. Why do think this is?\n",
                "\n",
                "How would you fix it?"
            ]
        },
        {
            "cell_type": "code",
            "execution_count": 37,
            "metadata": {},
            "outputs": [],
            "source": [
                "# Create another array of ones of shape (3, 5)\n",
                "ones4 = np.ones((3, 5))"
            ]
        },
        {
            "cell_type": "code",
            "execution_count": 38,
            "metadata": {},
            "outputs": [
                {
                    "data": {
                        "text/plain": [
                            "array([[ 2.,  6.,  5.,  7.,  6.],\n",
                            "       [ 3.,  0.,  3.,  6.,  8.],\n",
                            "       [ 7.,  7., -1.,  7.,  5.]])"
                        ]
                    },
                    "execution_count": 38,
                    "metadata": {},
                    "output_type": "execute_result"
                }
            ],
            "source": [
                "# Subtract the new array of ones from the other most recent array\n",
                "rand_array2 - ones4"
            ]
        },
        {
            "cell_type": "code",
            "execution_count": 39,
            "metadata": {},
            "outputs": [
                {
                    "data": {
                        "text/plain": [
                            "array([[3., 7., 6., 8., 7.],\n",
                            "       [4., 1., 4., 7., 9.],\n",
                            "       [8., 8., 0., 8., 6.]])"
                        ]
                    },
                    "execution_count": 39,
                    "metadata": {},
                    "output_type": "execute_result"
                }
            ],
            "source": [
                "# Multiply the ones array with the latest array\n",
                "rand_array2 * ones4"
            ]
        },
        {
            "cell_type": "code",
            "execution_count": 40,
            "metadata": {},
            "outputs": [
                {
                    "data": {
                        "text/plain": [
                            "array([[ 9, 49, 36, 64, 49],\n",
                            "       [16,  1, 16, 49, 81],\n",
                            "       [64, 64,  0, 64, 36]], dtype=int32)"
                        ]
                    },
                    "execution_count": 40,
                    "metadata": {},
                    "output_type": "execute_result"
                }
            ],
            "source": [
                "# Take the latest array to the power of 2 using '**'\n",
                "rand_array2 ** 2"
            ]
        },
        {
            "cell_type": "code",
            "execution_count": 41,
            "metadata": {},
            "outputs": [
                {
                    "data": {
                        "text/plain": [
                            "array([[ 9, 49, 36, 64, 49],\n",
                            "       [16,  1, 16, 49, 81],\n",
                            "       [64, 64,  0, 64, 36]], dtype=int32)"
                        ]
                    },
                    "execution_count": 41,
                    "metadata": {},
                    "output_type": "execute_result"
                }
            ],
            "source": [
                "# Do the same thing with np.square()\n",
                "np.square(rand_array2)"
            ]
        },
        {
            "cell_type": "code",
            "execution_count": 42,
            "metadata": {},
            "outputs": [
                {
                    "data": {
                        "text/plain": [
                            "5.733333333333333"
                        ]
                    },
                    "execution_count": 42,
                    "metadata": {},
                    "output_type": "execute_result"
                }
            ],
            "source": [
                "# Find the mean of the latest array using np.mean()\n",
                "np.mean(rand_array2)"
            ]
        },
        {
            "cell_type": "code",
            "execution_count": 43,
            "metadata": {},
            "outputs": [
                {
                    "data": {
                        "text/plain": [
                            "9"
                        ]
                    },
                    "execution_count": 43,
                    "metadata": {},
                    "output_type": "execute_result"
                }
            ],
            "source": [
                "# Find the maximum of the latest array using np.max()\n",
                "np.max(rand_array2)"
            ]
        },
        {
            "cell_type": "code",
            "execution_count": 44,
            "metadata": {},
            "outputs": [
                {
                    "data": {
                        "text/plain": [
                            "0"
                        ]
                    },
                    "execution_count": 44,
                    "metadata": {},
                    "output_type": "execute_result"
                }
            ],
            "source": [
                "# Find the minimum of the latest array using np.min()\n",
                "np.min(rand_array2)"
            ]
        },
        {
            "cell_type": "code",
            "execution_count": 45,
            "metadata": {},
            "outputs": [
                {
                    "data": {
                        "text/plain": [
                            "2.644911256650316"
                        ]
                    },
                    "execution_count": 45,
                    "metadata": {},
                    "output_type": "execute_result"
                }
            ],
            "source": [
                "# Find the standard deviation of the latest array\n",
                "np.std(rand_array2)"
            ]
        },
        {
            "cell_type": "code",
            "execution_count": 46,
            "metadata": {},
            "outputs": [
                {
                    "data": {
                        "text/plain": [
                            "6.995555555555554"
                        ]
                    },
                    "execution_count": 46,
                    "metadata": {},
                    "output_type": "execute_result"
                }
            ],
            "source": [
                "# Find the variance of the latest array\n",
                "np.var(rand_array2)"
            ]
        },
        {
            "cell_type": "code",
            "execution_count": 47,
            "metadata": {},
            "outputs": [
                {
                    "data": {
                        "text/plain": [
                            "array([[[3],\n",
                            "        [7],\n",
                            "        [6],\n",
                            "        [8],\n",
                            "        [7]],\n",
                            "\n",
                            "       [[4],\n",
                            "        [1],\n",
                            "        [4],\n",
                            "        [7],\n",
                            "        [9]],\n",
                            "\n",
                            "       [[8],\n",
                            "        [8],\n",
                            "        [0],\n",
                            "        [8],\n",
                            "        [6]]])"
                        ]
                    },
                    "execution_count": 47,
                    "metadata": {},
                    "output_type": "execute_result"
                }
            ],
            "source": [
                "# Reshape the latest array to (3, 5, 1)\n",
                "np.reshape(rand_array2, (3, 5, 1))"
            ]
        },
        {
            "cell_type": "code",
            "execution_count": 48,
            "metadata": {},
            "outputs": [
                {
                    "data": {
                        "text/plain": [
                            "array([[3, 4, 8],\n",
                            "       [7, 1, 8],\n",
                            "       [6, 4, 0],\n",
                            "       [8, 7, 8],\n",
                            "       [7, 9, 6]])"
                        ]
                    },
                    "execution_count": 48,
                    "metadata": {},
                    "output_type": "execute_result"
                }
            ],
            "source": [
                "# Transpose the latest array\n",
                "rand_array2.T"
            ]
        },
        {
            "cell_type": "markdown",
            "metadata": {},
            "source": [
                "What does the transpose do?"
            ]
        },
        {
            "cell_type": "code",
            "execution_count": 53,
            "metadata": {},
            "outputs": [],
            "source": [
                "# Create two arrays of random integers between 0 to 10\n",
                "# one of size (3, 3) the other of size (3, 2)\n",
                "rand_array3 = np.random.randint(0, 10, size=(3,3))\n",
                "rand_array4 = np.random.randint(0, 10, size=(3,2))"
            ]
        },
        {
            "cell_type": "code",
            "execution_count": 54,
            "metadata": {},
            "outputs": [
                {
                    "data": {
                        "text/plain": [
                            "array([[ 87,  81],\n",
                            "       [114, 105],\n",
                            "       [ 30,  42]])"
                        ]
                    },
                    "execution_count": 54,
                    "metadata": {},
                    "output_type": "execute_result"
                }
            ],
            "source": [
                "# Perform a dot product on the two newest arrays you created\n",
                "np.dot(rand_array3, rand_array4)"
            ]
        },
        {
            "cell_type": "code",
            "execution_count": 65,
            "metadata": {},
            "outputs": [],
            "source": [
                "# Create two arrays of random integers between 0 to 10\n",
                "# both of size (4, 3)\n",
                "rand_array5 = np.random.randint(0, 10, size=(4,3))\n",
                "rand_array6 = np.random.randint(0, 10, size=(4,3))"
            ]
        },
        {
            "cell_type": "code",
            "execution_count": 66,
            "metadata": {},
            "outputs": [
                {
                    "ename": "ValueError",
                    "evalue": "shapes (4,3) and (4,3) not aligned: 3 (dim 1) != 4 (dim 0)",
                    "output_type": "error",
                    "traceback": [
                        "\u001b[1;31m---------------------------------------------------------------------------\u001b[0m",
                        "\u001b[1;31mValueError\u001b[0m                                Traceback (most recent call last)",
                        "\u001b[1;32mc:\\Users\\jtass\\PycharmProjects\\data-science-test\\numpy-excercises.ipynb Cell 41\u001b[0m in \u001b[0;36m<cell line: 2>\u001b[1;34m()\u001b[0m\n\u001b[0;32m      <a href='vscode-notebook-cell:/c%3A/Users/jtass/PycharmProjects/data-science-test/numpy-excercises.ipynb#X55sZmlsZQ%3D%3D?line=0'>1</a>\u001b[0m \u001b[39m# Perform a dot product on the two newest arrays you created\u001b[39;00m\n\u001b[1;32m----> <a href='vscode-notebook-cell:/c%3A/Users/jtass/PycharmProjects/data-science-test/numpy-excercises.ipynb#X55sZmlsZQ%3D%3D?line=1'>2</a>\u001b[0m np\u001b[39m.\u001b[39;49mdot(rand_array5, rand_array6)\n",
                        "File \u001b[1;32m<__array_function__ internals>:5\u001b[0m, in \u001b[0;36mdot\u001b[1;34m(*args, **kwargs)\u001b[0m\n",
                        "\u001b[1;31mValueError\u001b[0m: shapes (4,3) and (4,3) not aligned: 3 (dim 1) != 4 (dim 0)"
                    ]
                }
            ],
            "source": [
                "# Perform a dot product on the two newest arrays you created\n",
                "np.dot(rand_array5, rand_array6)"
            ]
        },
        {
            "cell_type": "markdown",
            "metadata": {},
            "source": [
                "It doesn't work. How would you fix it?"
            ]
        },
        {
            "cell_type": "code",
            "execution_count": 67,
            "metadata": {},
            "outputs": [
                {
                    "data": {
                        "text/plain": [
                            "array([[ 32, 126, 122],\n",
                            "       [ 64, 167, 116],\n",
                            "       [ 40,  90,  70]])"
                        ]
                    },
                    "execution_count": 67,
                    "metadata": {},
                    "output_type": "execute_result"
                }
            ],
            "source": [
                "# Take the latest two arrays, perform a transpose on one of them and then perform \n",
                "# a dot product on them both\n",
                "np.dot(rand_array6.T, rand_array5)"
            ]
        },
        {
            "cell_type": "markdown",
            "metadata": {},
            "source": [
                "Notice how performing a transpose allows the dot product to happen.\n",
                "\n",
                "Why is this?\n",
                "\n",
                "Checking out the documentation on [`np.dot()`](https://docs.scipy.org/doc/numpy/reference/generated/numpy.dot.html) may help, as well as reading [Math is Fun's guide on the dot product](https://www.mathsisfun.com/algebra/vectors-dot-product.html).\n",
                "\n",
                "Let's now compare arrays."
            ]
        },
        {
            "cell_type": "code",
            "execution_count": 68,
            "metadata": {},
            "outputs": [],
            "source": [
                "# Create two arrays of random integers between 0 & 10 of the same shape\n",
                "# and save them to variables\n",
                "rand_array7 = np.random.randint(0, 10, size=(4,3))\n",
                "rand_array8 = np.random.randint(0, 10, size=(4,3))"
            ]
        },
        {
            "cell_type": "code",
            "execution_count": 69,
            "metadata": {},
            "outputs": [
                {
                    "data": {
                        "text/plain": [
                            "array([[ True,  True, False],\n",
                            "       [False, False, False],\n",
                            "       [ True,  True,  True],\n",
                            "       [False, False, False]])"
                        ]
                    },
                    "execution_count": 69,
                    "metadata": {},
                    "output_type": "execute_result"
                }
            ],
            "source": [
                "# Compare the two arrays with '>'\n",
                "rand_array7 > rand_array8"
            ]
        },
        {
            "cell_type": "markdown",
            "metadata": {},
            "source": [
                "What happens when you compare the arrays with `>`?"
            ]
        },
        {
            "cell_type": "code",
            "execution_count": 70,
            "metadata": {},
            "outputs": [
                {
                    "data": {
                        "text/plain": [
                            "array([[ True,  True, False],\n",
                            "       [False, False,  True],\n",
                            "       [ True,  True,  True],\n",
                            "       [False, False, False]])"
                        ]
                    },
                    "execution_count": 70,
                    "metadata": {},
                    "output_type": "execute_result"
                }
            ],
            "source": [
                "# Compare the two arrays with '>='\n",
                "rand_array7 >= rand_array8"
            ]
        },
        {
            "cell_type": "code",
            "execution_count": 71,
            "metadata": {},
            "outputs": [
                {
                    "data": {
                        "text/plain": [
                            "array([[False,  True, False],\n",
                            "       [False, False, False],\n",
                            "       [ True,  True, False],\n",
                            "       [False, False, False]])"
                        ]
                    },
                    "execution_count": 71,
                    "metadata": {},
                    "output_type": "execute_result"
                }
            ],
            "source": [
                "# Find which elements of the first array are greater than 7\n",
                "rand_array7 > 7"
            ]
        },
        {
            "cell_type": "code",
            "execution_count": 72,
            "metadata": {},
            "outputs": [
                {
                    "data": {
                        "text/plain": [
                            "array([[False, False, False],\n",
                            "       [False, False,  True],\n",
                            "       [False, False, False],\n",
                            "       [False, False, False]])"
                        ]
                    },
                    "execution_count": 72,
                    "metadata": {},
                    "output_type": "execute_result"
                }
            ],
            "source": [
                "# Which parts of each array are equal? (try using '==')\n",
                "rand_array7 == rand_array8"
            ]
        },
        {
            "cell_type": "code",
            "execution_count": 82,
            "metadata": {},
            "outputs": [
                {
                    "data": {
                        "text/plain": [
                            "array([[1, 3, 3],\n",
                            "       [2, 5, 9],\n",
                            "       [4, 6, 9],\n",
                            "       [4, 9, 9]])"
                        ]
                    },
                    "execution_count": 82,
                    "metadata": {},
                    "output_type": "execute_result"
                }
            ],
            "source": [
                "# Sort one of the arrays you just created in ascending order\n",
                "np.sort(rand_array8, axis=0)"
            ]
        },
        {
            "cell_type": "code",
            "execution_count": 90,
            "metadata": {},
            "outputs": [
                {
                    "data": {
                        "text/plain": [
                            "array([[0, 1, 2],\n",
                            "       [0, 1, 2],\n",
                            "       [0, 1, 2],\n",
                            "       [0, 1, 2]], dtype=int64)"
                        ]
                    },
                    "execution_count": 90,
                    "metadata": {},
                    "output_type": "execute_result"
                }
            ],
            "source": [
                "# Sort the indexes of one of the arrays you just created\n",
                "np.argsort(rand_array8)"
            ]
        },
        {
            "cell_type": "code",
            "execution_count": 91,
            "metadata": {},
            "outputs": [
                {
                    "data": {
                        "text/plain": [
                            "array([[4, 6, 9],\n",
                            "       [4, 5, 9],\n",
                            "       [1, 3, 3],\n",
                            "       [2, 9, 9]])"
                        ]
                    },
                    "execution_count": 91,
                    "metadata": {},
                    "output_type": "execute_result"
                }
            ],
            "source": [
                "rand_array8"
            ]
        },
        {
            "cell_type": "code",
            "execution_count": 94,
            "metadata": {},
            "outputs": [
                {
                    "data": {
                        "text/plain": [
                            "2"
                        ]
                    },
                    "execution_count": 94,
                    "metadata": {},
                    "output_type": "execute_result"
                }
            ],
            "source": [
                "# Find the index with the maximum value in one of the arrays you've created\n",
                "np.argmax(rand_array8)"
            ]
        },
        {
            "cell_type": "code",
            "execution_count": 93,
            "metadata": {},
            "outputs": [
                {
                    "data": {
                        "text/plain": [
                            "6"
                        ]
                    },
                    "execution_count": 93,
                    "metadata": {},
                    "output_type": "execute_result"
                }
            ],
            "source": [
                "# Find the index with the minimum value in one of the arrays you've created\n",
                "np.argmin(rand_array8)"
            ]
        },
        {
            "cell_type": "code",
            "execution_count": 95,
            "metadata": {},
            "outputs": [
                {
                    "data": {
                        "text/plain": [
                            "array([2, 2, 1, 1], dtype=int64)"
                        ]
                    },
                    "execution_count": 95,
                    "metadata": {},
                    "output_type": "execute_result"
                }
            ],
            "source": [
                "# Find the indexes with the maximum values down the 1st axis (axis=1)\n",
                "# of one of the arrays you created\n",
                "np.argmax(rand_array8, axis=1)"
            ]
        },
        {
            "cell_type": "code",
            "execution_count": 96,
            "metadata": {},
            "outputs": [
                {
                    "data": {
                        "text/plain": [
                            "array([0, 3, 0], dtype=int64)"
                        ]
                    },
                    "execution_count": 96,
                    "metadata": {},
                    "output_type": "execute_result"
                }
            ],
            "source": [
                "# Find the indexes with the minimum values across the 0th axis (axis=0)\n",
                "# of one of the arrays you created\n",
                "np.argmax(rand_array8, axis=0)"
            ]
        },
        {
            "cell_type": "code",
            "execution_count": 99,
            "metadata": {},
            "outputs": [
                {
                    "data": {
                        "text/plain": [
                            "array([[-0.98150865,  0.46210347,  0.1990597 , -0.60021688,  0.06980208],\n",
                            "       [-0.3853136 ,  0.11351735,  0.66213067,  1.58601682, -1.2378155 ],\n",
                            "       [ 2.13303337, -1.9520878 , -0.1517851 ,  0.58831721,  0.28099187]])"
                        ]
                    },
                    "execution_count": 99,
                    "metadata": {},
                    "output_type": "execute_result"
                }
            ],
            "source": [
                "# Create an array of normally distributed random numbers\n",
                "norm_array = np.random.normal(size=(3,5))\n",
                "norm_array"
            ]
        },
        {
            "cell_type": "code",
            "execution_count": 102,
            "metadata": {},
            "outputs": [
                {
                    "data": {
                        "text/plain": [
                            "array([0, 0, 0, 1, 1, 1, 2, 2, 2, 3, 3, 3, 4, 4, 5])"
                        ]
                    },
                    "execution_count": 102,
                    "metadata": {},
                    "output_type": "execute_result"
                }
            ],
            "source": [
                "# Create an array with 10 evenly spaced numbers between 1 and 100\n",
                "np.linspace(0, 5, 15, dtype=int)"
            ]
        },
        {
            "cell_type": "markdown",
            "metadata": {},
            "source": [
                "## Extensions\n",
                "\n",
                "For more exercises, check out the [NumPy quickstart tutorial](https://numpy.org/doc/stable/user/quickstart.html). A good practice would be to read through it and for the parts you find interesting, add them into the end of this notebook.\n",
                "\n",
                "Pay particular attention to the section on broadcasting. And most importantly, get hands-on with the code as much as possible. If in dobut, run the code, see what it does.\n",
                "\n",
                "The next place you could go is the [Stack Overflow page for the top questions and answers for NumPy](https://stackoverflow.com/questions/tagged/numpy?sort=MostVotes&edited=true). Often, you'll find some of the most common and useful NumPy functions here. Don't forget to play around with the filters! You'll likely find something helpful here.\n",
                "\n",
                "Finally, as always, remember, the best way to learn something new is to try it. And try it relentlessly. If you get interested in some kind of NumPy function, asking yourself, \"I wonder if NumPy could do that?\", go and find out."
            ]
        }
    ],
    "metadata": {
        "kernelspec": {
            "display_name": "Python 3.9.12 ('base')",
            "language": "python",
            "name": "python3"
        },
        "language_info": {
            "codemirror_mode": {
                "name": "ipython",
                "version": 3
            },
            "file_extension": ".py",
            "mimetype": "text/x-python",
            "name": "python",
            "nbconvert_exporter": "python",
            "pygments_lexer": "ipython3",
            "version": "3.9.12"
        },
        "vscode": {
            "interpreter": {
                "hash": "d8ab4c82b6a684550580028d541a350e9f457a7b90dc31384f2c8ac4a35d7892"
            }
        }
    },
    "nbformat": 4,
    "nbformat_minor": 2
}
